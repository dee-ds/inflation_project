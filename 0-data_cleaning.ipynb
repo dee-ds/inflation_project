{
 "cells": [
  {
   "attachments": {},
   "cell_type": "markdown",
   "metadata": {},
   "source": [
    "## Data cleaning\n",
    "\n",
    "In this notebook we clean the datasets and prepare them for further analysis.\n",
    "\n",
    "The data have been collected using two database systems of the [Polish Central Statistical Office](https://stat.gov.pl/en/): the [Knowledge Databases](http://swaid.stat.gov.pl/en/SitePages/StronaGlownaDBW.aspx) and the [Local Data Bank](https://bdl.stat.gov.pl/bdl/start) (both available in English). The systems allow to access and download basic statistics collected by the Office, e.g. the economic or the social ones. Moreover, numerous sections of data are grouped into voivodeships (the administrative division system of Poland; see [here](https://en.wikipedia.org/wiki/Voivodeships_of_Poland) for details), which can be used to compare different regions of the country.\n",
    "\n",
    "The details on particular datasets are described below, with all the raw files stored in the <a href='raw_data'>`raw_data`</a> catalogue (the data current as of May 2, 2023). For the processing, we will mainly use the `pandas` library."
   ]
  },
  {
   "cell_type": "code",
   "execution_count": 24,
   "metadata": {},
   "outputs": [],
   "source": [
    "import pandas as pd"
   ]
  },
  {
   "attachments": {},
   "cell_type": "markdown",
   "metadata": {},
   "source": [
    "### Inflation monthly\n",
    "\n",
    "In the <a href='raw_data/inflation_monthly.csv'>`inflation_monthly.csv`</a> file one can find the monthly (retail) price indices of consumer goods and services. The data have been collected using the [Prices Knowledge Database](http://swaid.stat.gov.pl/EN/Ceny_dashboards/Raporty_predefiniowane/RAP_DBD_CEN_2.aspx), where the user can select different filter parameters. For the purposes of this analysis, we have chosen:\n",
    "\n",
    "* the time interval from January 2010 to March 2023,\n",
    "* all the available categories of **consumer goods and services** and **groups of households**, and\n",
    "* the monthly data collection methodology: the value in the current month describes the change in relation to the value from the previous month, where (inflation = 100.0) means, that the prices haven't changed within the last month.\n",
    "\n",
    "In this case, the data are given for the whole country only. The split into local regions (the voivodeships) can be found in the <a href='raw_data/inflation_quarterly.csv'>`inflation_quarterly.csv`</a> file, which is discussed further.\n",
    "\n",
    "To load the file into the data frame, we have to skip some of the beginning rows, where the metadata are given."
   ]
  },
  {
   "cell_type": "code",
   "execution_count": 25,
   "metadata": {},
   "outputs": [],
   "source": [
    "infl_m = pd.read_csv('raw_data/inflation_monthly.csv', skiprows=6,\n",
    "    low_memory=False)"
   ]
  },
  {
   "attachments": {},
   "cell_type": "markdown",
   "metadata": {},
   "source": [
    "Let's examine the first few records of the frame:"
   ]
  },
  {
   "cell_type": "code",
   "execution_count": 26,
   "metadata": {},
   "outputs": [
    {
     "data": {
      "text/html": [
       "<div>\n",
       "<style scoped>\n",
       "    .dataframe tbody tr th:only-of-type {\n",
       "        vertical-align: middle;\n",
       "    }\n",
       "\n",
       "    .dataframe tbody tr th {\n",
       "        vertical-align: top;\n",
       "    }\n",
       "\n",
       "    .dataframe thead th {\n",
       "        text-align: right;\n",
       "    }\n",
       "</style>\n",
       "<table border=\"1\" class=\"dataframe\">\n",
       "  <thead>\n",
       "    <tr style=\"text-align: right;\">\n",
       "      <th></th>\n",
       "      <th>Textbox5</th>\n",
       "      <th>Textbox1</th>\n",
       "      <th>TOWARY_I_USŁUGI_KONSUMPCYJNE2</th>\n",
       "      <th>GRUPY_GOSPODARSTW_DOMOWYCH_PUBL</th>\n",
       "      <th>KOD_ROK_MIESIAC_RZYM</th>\n",
       "      <th>WARTOSC_OST_blok21</th>\n",
       "      <th>Textbox8</th>\n",
       "      <th>UDZIAL_SZACUNKOW_Blok2</th>\n",
       "      <th>Textbox9</th>\n",
       "      <th>GL_METODA_SZACUNKU_Blok2</th>\n",
       "      <th>Textbox10</th>\n",
       "      <th>METODY_SZACUNKU_Blok2</th>\n",
       "    </tr>\n",
       "  </thead>\n",
       "  <tbody>\n",
       "    <tr>\n",
       "      <th>0</th>\n",
       "      <td>Consumer goods and services</td>\n",
       "      <td>Groups od households</td>\n",
       "      <td>G R A N D   T O T A L</td>\n",
       "      <td>G R A N D   T O T A L</td>\n",
       "      <td>2010 I</td>\n",
       "      <td>100.6</td>\n",
       "      <td>Share of estimates</td>\n",
       "      <td>NaN</td>\n",
       "      <td>Main method of estimate</td>\n",
       "      <td>NaN</td>\n",
       "      <td>Methods of estimate</td>\n",
       "      <td>NaN</td>\n",
       "    </tr>\n",
       "    <tr>\n",
       "      <th>1</th>\n",
       "      <td>Consumer goods and services</td>\n",
       "      <td>Groups od households</td>\n",
       "      <td>G R A N D   T O T A L</td>\n",
       "      <td>G R A N D   T O T A L</td>\n",
       "      <td>2010 II</td>\n",
       "      <td>100.2</td>\n",
       "      <td>Share of estimates</td>\n",
       "      <td>NaN</td>\n",
       "      <td>Main method of estimate</td>\n",
       "      <td>NaN</td>\n",
       "      <td>Methods of estimate</td>\n",
       "      <td>NaN</td>\n",
       "    </tr>\n",
       "    <tr>\n",
       "      <th>2</th>\n",
       "      <td>Consumer goods and services</td>\n",
       "      <td>Groups od households</td>\n",
       "      <td>G R A N D   T O T A L</td>\n",
       "      <td>G R A N D   T O T A L</td>\n",
       "      <td>2010 III</td>\n",
       "      <td>100.3</td>\n",
       "      <td>Share of estimates</td>\n",
       "      <td>NaN</td>\n",
       "      <td>Main method of estimate</td>\n",
       "      <td>NaN</td>\n",
       "      <td>Methods of estimate</td>\n",
       "      <td>NaN</td>\n",
       "    </tr>\n",
       "    <tr>\n",
       "      <th>3</th>\n",
       "      <td>Consumer goods and services</td>\n",
       "      <td>Groups od households</td>\n",
       "      <td>G R A N D   T O T A L</td>\n",
       "      <td>G R A N D   T O T A L</td>\n",
       "      <td>2010 IV</td>\n",
       "      <td>100.4</td>\n",
       "      <td>Share of estimates</td>\n",
       "      <td>NaN</td>\n",
       "      <td>Main method of estimate</td>\n",
       "      <td>NaN</td>\n",
       "      <td>Methods of estimate</td>\n",
       "      <td>NaN</td>\n",
       "    </tr>\n",
       "    <tr>\n",
       "      <th>4</th>\n",
       "      <td>Consumer goods and services</td>\n",
       "      <td>Groups od households</td>\n",
       "      <td>G R A N D   T O T A L</td>\n",
       "      <td>G R A N D   T O T A L</td>\n",
       "      <td>2010 V</td>\n",
       "      <td>100.3</td>\n",
       "      <td>Share of estimates</td>\n",
       "      <td>NaN</td>\n",
       "      <td>Main method of estimate</td>\n",
       "      <td>NaN</td>\n",
       "      <td>Methods of estimate</td>\n",
       "      <td>NaN</td>\n",
       "    </tr>\n",
       "  </tbody>\n",
       "</table>\n",
       "</div>"
      ],
      "text/plain": [
       "                      Textbox5              Textbox1  \\\n",
       "0  Consumer goods and services  Groups od households   \n",
       "1  Consumer goods and services  Groups od households   \n",
       "2  Consumer goods and services  Groups od households   \n",
       "3  Consumer goods and services  Groups od households   \n",
       "4  Consumer goods and services  Groups od households   \n",
       "\n",
       "  TOWARY_I_USŁUGI_KONSUMPCYJNE2 GRUPY_GOSPODARSTW_DOMOWYCH_PUBL  \\\n",
       "0        G R A N D   T O T A L            G R A N D   T O T A L   \n",
       "1        G R A N D   T O T A L            G R A N D   T O T A L   \n",
       "2        G R A N D   T O T A L            G R A N D   T O T A L   \n",
       "3        G R A N D   T O T A L            G R A N D   T O T A L   \n",
       "4        G R A N D   T O T A L            G R A N D   T O T A L   \n",
       "\n",
       "  KOD_ROK_MIESIAC_RZYM WARTOSC_OST_blok21            Textbox8  \\\n",
       "0               2010 I              100.6  Share of estimates   \n",
       "1              2010 II              100.2  Share of estimates   \n",
       "2             2010 III              100.3  Share of estimates   \n",
       "3              2010 IV              100.4  Share of estimates   \n",
       "4               2010 V              100.3  Share of estimates   \n",
       "\n",
       "   UDZIAL_SZACUNKOW_Blok2                 Textbox9  GL_METODA_SZACUNKU_Blok2  \\\n",
       "0                     NaN  Main method of estimate                       NaN   \n",
       "1                     NaN  Main method of estimate                       NaN   \n",
       "2                     NaN  Main method of estimate                       NaN   \n",
       "3                     NaN  Main method of estimate                       NaN   \n",
       "4                     NaN  Main method of estimate                       NaN   \n",
       "\n",
       "             Textbox10 METODY_SZACUNKU_Blok2  \n",
       "0  Methods of estimate                   NaN  \n",
       "1  Methods of estimate                   NaN  \n",
       "2  Methods of estimate                   NaN  \n",
       "3  Methods of estimate                   NaN  \n",
       "4  Methods of estimate                   NaN  "
      ]
     },
     "execution_count": 26,
     "metadata": {},
     "output_type": "execute_result"
    }
   ],
   "source": [
    "infl_m.head()"
   ]
  },
  {
   "attachments": {},
   "cell_type": "markdown",
   "metadata": {},
   "source": [
    "Many of the columns above are irrelevant, since they serve as language translations (e.g., the value in the **Textbox5** column - <font color=#ff7f0e>Consumer goods and services</font> is the English translation of the column header <font color=#ff7f0e>TOWARY_I_USŁUGI_KONSUMPCYJNE</font> given in Polish), or they contain only one unique value. The latter can be easily observed by describing the data:"
   ]
  },
  {
   "cell_type": "code",
   "execution_count": 27,
   "metadata": {},
   "outputs": [
    {
     "data": {
      "text/html": [
       "<div>\n",
       "<style scoped>\n",
       "    .dataframe tbody tr th:only-of-type {\n",
       "        vertical-align: middle;\n",
       "    }\n",
       "\n",
       "    .dataframe tbody tr th {\n",
       "        vertical-align: top;\n",
       "    }\n",
       "\n",
       "    .dataframe thead th {\n",
       "        text-align: right;\n",
       "    }\n",
       "</style>\n",
       "<table border=\"1\" class=\"dataframe\">\n",
       "  <thead>\n",
       "    <tr style=\"text-align: right;\">\n",
       "      <th></th>\n",
       "      <th>Textbox5</th>\n",
       "      <th>Textbox1</th>\n",
       "      <th>TOWARY_I_USŁUGI_KONSUMPCYJNE2</th>\n",
       "      <th>GRUPY_GOSPODARSTW_DOMOWYCH_PUBL</th>\n",
       "      <th>KOD_ROK_MIESIAC_RZYM</th>\n",
       "      <th>WARTOSC_OST_blok21</th>\n",
       "      <th>Textbox8</th>\n",
       "      <th>UDZIAL_SZACUNKOW_Blok2</th>\n",
       "      <th>Textbox9</th>\n",
       "      <th>GL_METODA_SZACUNKU_Blok2</th>\n",
       "      <th>Textbox10</th>\n",
       "      <th>METODY_SZACUNKU_Blok2</th>\n",
       "    </tr>\n",
       "  </thead>\n",
       "  <tbody>\n",
       "    <tr>\n",
       "      <th>count</th>\n",
       "      <td>94128</td>\n",
       "      <td>94128</td>\n",
       "      <td>94128</td>\n",
       "      <td>94128</td>\n",
       "      <td>94128</td>\n",
       "      <td>94128</td>\n",
       "      <td>94128</td>\n",
       "      <td>1664.000000</td>\n",
       "      <td>94128</td>\n",
       "      <td>1536.000000</td>\n",
       "      <td>94128</td>\n",
       "      <td>1536</td>\n",
       "    </tr>\n",
       "    <tr>\n",
       "      <th>unique</th>\n",
       "      <td>1</td>\n",
       "      <td>1</td>\n",
       "      <td>74</td>\n",
       "      <td>8</td>\n",
       "      <td>159</td>\n",
       "      <td>395</td>\n",
       "      <td>1</td>\n",
       "      <td>NaN</td>\n",
       "      <td>1</td>\n",
       "      <td>NaN</td>\n",
       "      <td>1</td>\n",
       "      <td>7</td>\n",
       "    </tr>\n",
       "    <tr>\n",
       "      <th>top</th>\n",
       "      <td>Consumer goods and services</td>\n",
       "      <td>Groups od households</td>\n",
       "      <td>G R A N D   T O T A L</td>\n",
       "      <td>G R A N D   T O T A L</td>\n",
       "      <td>2010 I</td>\n",
       "      <td>100.0</td>\n",
       "      <td>Share of estimates</td>\n",
       "      <td>NaN</td>\n",
       "      <td>Main method of estimate</td>\n",
       "      <td>NaN</td>\n",
       "      <td>Methods of estimate</td>\n",
       "      <td>0</td>\n",
       "    </tr>\n",
       "    <tr>\n",
       "      <th>freq</th>\n",
       "      <td>94128</td>\n",
       "      <td>94128</td>\n",
       "      <td>1272</td>\n",
       "      <td>11766</td>\n",
       "      <td>592</td>\n",
       "      <td>10779</td>\n",
       "      <td>94128</td>\n",
       "      <td>NaN</td>\n",
       "      <td>94128</td>\n",
       "      <td>NaN</td>\n",
       "      <td>94128</td>\n",
       "      <td>968</td>\n",
       "    </tr>\n",
       "    <tr>\n",
       "      <th>mean</th>\n",
       "      <td>NaN</td>\n",
       "      <td>NaN</td>\n",
       "      <td>NaN</td>\n",
       "      <td>NaN</td>\n",
       "      <td>NaN</td>\n",
       "      <td>NaN</td>\n",
       "      <td>NaN</td>\n",
       "      <td>7.448077</td>\n",
       "      <td>NaN</td>\n",
       "      <td>0.432292</td>\n",
       "      <td>NaN</td>\n",
       "      <td>NaN</td>\n",
       "    </tr>\n",
       "    <tr>\n",
       "      <th>std</th>\n",
       "      <td>NaN</td>\n",
       "      <td>NaN</td>\n",
       "      <td>NaN</td>\n",
       "      <td>NaN</td>\n",
       "      <td>NaN</td>\n",
       "      <td>NaN</td>\n",
       "      <td>NaN</td>\n",
       "      <td>11.170185</td>\n",
       "      <td>NaN</td>\n",
       "      <td>1.394489</td>\n",
       "      <td>NaN</td>\n",
       "      <td>NaN</td>\n",
       "    </tr>\n",
       "    <tr>\n",
       "      <th>min</th>\n",
       "      <td>NaN</td>\n",
       "      <td>NaN</td>\n",
       "      <td>NaN</td>\n",
       "      <td>NaN</td>\n",
       "      <td>NaN</td>\n",
       "      <td>NaN</td>\n",
       "      <td>NaN</td>\n",
       "      <td>0.100000</td>\n",
       "      <td>NaN</td>\n",
       "      <td>0.000000</td>\n",
       "      <td>NaN</td>\n",
       "      <td>NaN</td>\n",
       "    </tr>\n",
       "    <tr>\n",
       "      <th>25%</th>\n",
       "      <td>NaN</td>\n",
       "      <td>NaN</td>\n",
       "      <td>NaN</td>\n",
       "      <td>NaN</td>\n",
       "      <td>NaN</td>\n",
       "      <td>NaN</td>\n",
       "      <td>NaN</td>\n",
       "      <td>1.600000</td>\n",
       "      <td>NaN</td>\n",
       "      <td>0.000000</td>\n",
       "      <td>NaN</td>\n",
       "      <td>NaN</td>\n",
       "    </tr>\n",
       "    <tr>\n",
       "      <th>50%</th>\n",
       "      <td>NaN</td>\n",
       "      <td>NaN</td>\n",
       "      <td>NaN</td>\n",
       "      <td>NaN</td>\n",
       "      <td>NaN</td>\n",
       "      <td>NaN</td>\n",
       "      <td>NaN</td>\n",
       "      <td>3.800000</td>\n",
       "      <td>NaN</td>\n",
       "      <td>0.000000</td>\n",
       "      <td>NaN</td>\n",
       "      <td>NaN</td>\n",
       "    </tr>\n",
       "    <tr>\n",
       "      <th>75%</th>\n",
       "      <td>NaN</td>\n",
       "      <td>NaN</td>\n",
       "      <td>NaN</td>\n",
       "      <td>NaN</td>\n",
       "      <td>NaN</td>\n",
       "      <td>NaN</td>\n",
       "      <td>NaN</td>\n",
       "      <td>7.100000</td>\n",
       "      <td>NaN</td>\n",
       "      <td>0.000000</td>\n",
       "      <td>NaN</td>\n",
       "      <td>NaN</td>\n",
       "    </tr>\n",
       "    <tr>\n",
       "      <th>max</th>\n",
       "      <td>NaN</td>\n",
       "      <td>NaN</td>\n",
       "      <td>NaN</td>\n",
       "      <td>NaN</td>\n",
       "      <td>NaN</td>\n",
       "      <td>NaN</td>\n",
       "      <td>NaN</td>\n",
       "      <td>78.000000</td>\n",
       "      <td>NaN</td>\n",
       "      <td>5.000000</td>\n",
       "      <td>NaN</td>\n",
       "      <td>NaN</td>\n",
       "    </tr>\n",
       "  </tbody>\n",
       "</table>\n",
       "</div>"
      ],
      "text/plain": [
       "                           Textbox5              Textbox1  \\\n",
       "count                         94128                 94128   \n",
       "unique                            1                     1   \n",
       "top     Consumer goods and services  Groups od households   \n",
       "freq                          94128                 94128   \n",
       "mean                            NaN                   NaN   \n",
       "std                             NaN                   NaN   \n",
       "min                             NaN                   NaN   \n",
       "25%                             NaN                   NaN   \n",
       "50%                             NaN                   NaN   \n",
       "75%                             NaN                   NaN   \n",
       "max                             NaN                   NaN   \n",
       "\n",
       "       TOWARY_I_USŁUGI_KONSUMPCYJNE2 GRUPY_GOSPODARSTW_DOMOWYCH_PUBL  \\\n",
       "count                          94128                           94128   \n",
       "unique                            74                               8   \n",
       "top           G R A N D   T O T A L            G R A N D   T O T A L   \n",
       "freq                            1272                           11766   \n",
       "mean                             NaN                             NaN   \n",
       "std                              NaN                             NaN   \n",
       "min                              NaN                             NaN   \n",
       "25%                              NaN                             NaN   \n",
       "50%                              NaN                             NaN   \n",
       "75%                              NaN                             NaN   \n",
       "max                              NaN                             NaN   \n",
       "\n",
       "       KOD_ROK_MIESIAC_RZYM WARTOSC_OST_blok21            Textbox8  \\\n",
       "count                 94128              94128               94128   \n",
       "unique                  159                395                   1   \n",
       "top                  2010 I              100.0  Share of estimates   \n",
       "freq                    592              10779               94128   \n",
       "mean                    NaN                NaN                 NaN   \n",
       "std                     NaN                NaN                 NaN   \n",
       "min                     NaN                NaN                 NaN   \n",
       "25%                     NaN                NaN                 NaN   \n",
       "50%                     NaN                NaN                 NaN   \n",
       "75%                     NaN                NaN                 NaN   \n",
       "max                     NaN                NaN                 NaN   \n",
       "\n",
       "        UDZIAL_SZACUNKOW_Blok2                 Textbox9  \\\n",
       "count              1664.000000                    94128   \n",
       "unique                     NaN                        1   \n",
       "top                        NaN  Main method of estimate   \n",
       "freq                       NaN                    94128   \n",
       "mean                  7.448077                      NaN   \n",
       "std                  11.170185                      NaN   \n",
       "min                   0.100000                      NaN   \n",
       "25%                   1.600000                      NaN   \n",
       "50%                   3.800000                      NaN   \n",
       "75%                   7.100000                      NaN   \n",
       "max                  78.000000                      NaN   \n",
       "\n",
       "        GL_METODA_SZACUNKU_Blok2            Textbox10 METODY_SZACUNKU_Blok2  \n",
       "count                1536.000000                94128                  1536  \n",
       "unique                       NaN                    1                     7  \n",
       "top                          NaN  Methods of estimate                     0  \n",
       "freq                         NaN                94128                   968  \n",
       "mean                    0.432292                  NaN                   NaN  \n",
       "std                     1.394489                  NaN                   NaN  \n",
       "min                     0.000000                  NaN                   NaN  \n",
       "25%                     0.000000                  NaN                   NaN  \n",
       "50%                     0.000000                  NaN                   NaN  \n",
       "75%                     0.000000                  NaN                   NaN  \n",
       "max                     5.000000                  NaN                   NaN  "
      ]
     },
     "execution_count": 27,
     "metadata": {},
     "output_type": "execute_result"
    }
   ],
   "source": [
    "infl_m.describe(include='all')"
   ]
  },
  {
   "attachments": {},
   "cell_type": "markdown",
   "metadata": {},
   "source": [
    "For further processing, we will leave only the columns from 2 to 5 (numbered from zero). Additionally, we will rename the headers for clarity as follows:\n",
    "\n",
    "* **good**: includes the categories of consumer goods and services,\n",
    "* **household**: includes the groups of households,\n",
    "* **date**: date to which the data refer, and\n",
    "* **inflation**: the value of inflation."
   ]
  },
  {
   "cell_type": "code",
   "execution_count": 28,
   "metadata": {},
   "outputs": [
    {
     "name": "stdout",
     "output_type": "stream",
     "text": [
      "<class 'pandas.core.frame.DataFrame'>\n",
      "RangeIndex: 94128 entries, 0 to 94127\n",
      "Data columns (total 4 columns):\n",
      " #   Column     Non-Null Count  Dtype \n",
      "---  ------     --------------  ----- \n",
      " 0   good       94128 non-null  object\n",
      " 1   household  94128 non-null  object\n",
      " 2   date       94128 non-null  object\n",
      " 3   inflation  94128 non-null  object\n",
      "dtypes: object(4)\n",
      "memory usage: 2.9+ MB\n"
     ]
    }
   ],
   "source": [
    "infl_m = infl_m.iloc[:, 2:6]\n",
    "infl_m.columns = ['good', 'household', 'date', 'inflation']\n",
    "\n",
    "infl_m.info()"
   ]
  },
  {
   "attachments": {},
   "cell_type": "markdown",
   "metadata": {},
   "source": [
    "Examining the info on the data frame given above, one can see that the **date** is treated as an *object* type (instead of *datetime*); the same occurs for the **inflation** column, where the values should be clearly numeric.\n",
    "\n",
    "To see what is wrong with the latter one, we can examine the values in the column quickly with the `unique` method."
   ]
  },
  {
   "cell_type": "code",
   "execution_count": 29,
   "metadata": {},
   "outputs": [
    {
     "data": {
      "text/plain": [
       "array(['100.6', '100.2', '100.3', '100.4', '99.8', '99.6', '100.5',\n",
       "       '100.1', '101.2', '100.9', '99.7', '100.0', '100.7', '99.5',\n",
       "       '99.9', '101.1', '100.8', '101.3', '101.0', '101.9', '103.3',\n",
       "       '102.0', '101.7', '101.5', '101.6', '101.8', '102.5', '99.4',\n",
       "       '102.3', '101.4', '104.8', '102.4', '102.1', '99.2', '102.9',\n",
       "       '103.0', '102.2', '103.2', '99.3', '98.9', '98.6', '98.2', '98.3',\n",
       "       '98.0', '98.8', '98.4', '99.0', '102.6', '104.1', '102.7', '98.7',\n",
       "       '98.1', '102.8', '99.1', '104.3', '98.5', '104.0', '97.9', '97.8',\n",
       "       '104.2', '104.4', '104.6', '97.7', '97.6', '104.5', '103.6',\n",
       "       '103.7', '103.8', '103.9', '105.9', '105.7', '105.8', '106.1',\n",
       "       '103.4', '108.5', '108.6', '97.5', '103.5', '108.7', '97.4',\n",
       "       '105.5', '95.5', '103.1', '96.8', '110.5', '112.7', '110.6',\n",
       "       '112.8', '105.2', '97.2', '106.2', '95.3', '96.1', '111.1',\n",
       "       '112.9', '105.1', '95.7', '97.1', '110.1', '112.5', '105.6',\n",
       "       '96.7', '110.3', '95.6', '104.9', '97.3', '95.4', '110.7', '105.4',\n",
       "       '96.4', '111.2', '113.2', '106.4', '109.9', '106.8', '94.8',\n",
       "       '93.9', '112.1', '104.7', '95.2', '107.0', '96.0', '105.3', '97.0',\n",
       "       '95.0', '96.5', '94.2', '108.2', '111.3', '114.4', '95.1', '95.9',\n",
       "       '96.9', '94.9', '96.6', '94.1', '108.4', '106.3', '111.4', '114.5',\n",
       "       '107.2', '95.8', '94.7', '96.3', '94.0', '109.0', '106.5', '111.8',\n",
       "       '114.7', '109.6', '96.2', '94.4', '107.8', '114.3', '109.7',\n",
       "       '105.0', '94.3', '107.9', '111.0', '110.0', '107.3', '109.1',\n",
       "       '112.0', '114.8', '106.7', '106.0', '125.7', '110.2', '130.0',\n",
       "       '107.6', '107.5', '106.9', '93.4', '107.4', '94.5', '88.3', '93.8',\n",
       "       '91.6', '93.5', '107.7', '108.0', '106.6', '112.6', '88.7',\n",
       "       '107.1', '92.0', '109.8', '91.1', '88.8', '93.0', '92.8', '116.4',\n",
       "       '93.2', '89.0', '92.1', '87.3', '92.9', '90.7', '92.6', '93.7',\n",
       "       '108.1', '108.3', '113.6', '93.3', '93.6', '87.1', '92.5', '90.5',\n",
       "       '94.6', '113.1', '87.9', '92.7', '91.5', '89.8', '84.2', '85.6',\n",
       "       '82.4', '86.1', '80.7', '91.0', '111.9', '89.7', '108.9', '90.6',\n",
       "       '86.6', '88.4', '92.2', '109.3', '91.9', '91.3', '84.8', '110.8',\n",
       "       '85.8', '82.7', '86.5', '81.0', '111.7', '89.9', '108.8', '109.2',\n",
       "       '113.9', '113.5', '82.8', '85.2', '86.8', '112.4', '81.7', '113.0',\n",
       "       '90.2', '90.1', '90.4', '93.1', '83.1', '85.9', '83.8', '87.2',\n",
       "       '81.9', '89.6', '109.5', '85.4', '81.1', '85.0', '79.8', '90.3',\n",
       "       '112.2', '89.3', '89.5', '90.0', '87.4', '84.0', '85.3', '81.3',\n",
       "       '79.9', '89.2', '80.5', '84.7', '79.1', '86.9', '91.8', '88.9',\n",
       "       '84.3', '85.7', '80.0', '90.8', '87.0', '91.4', '116.7', '113.4',\n",
       "       '115.2', '112.3', '139.4', '92.3', '141.3', '122.3', '126.3',\n",
       "       '118.2', '126.1', '118.3', '129.7', '130.2', '120.5', '126.8',\n",
       "       '118.5', '127.2', '118.7', '116.0', '120.2', '113.8', '114.2',\n",
       "       '114.0', '110.4', '116.3', '109.4', '113.7', '117.5', '115.7',\n",
       "       '117.3', '115.6', '89.1', '116.2', '89.4', '114.1', '113.3',\n",
       "       '115.4', '117.4', '119.9', '117.0', '117.1', '114.6', '122.5',\n",
       "       '122.6', '123.5', '123.2', '121.4', '121.5', '121.0', '128.1',\n",
       "       '91.7', '128.2', '127.4', '129.2', '124.6', '92.4', '135.1',\n",
       "       '88.0', '90.9', '91.2', '78.9', '83.3', '129.4', '82.1', '124.8',\n",
       "       '81.6', '117.2', '80.6', '86.7', '111.5', '84.5', '127.8', '78.6',\n",
       "       '114.9', '83.0', '82.3', '86.4', '82.0', '118.9', '116.9', '77.9',\n",
       "       '133.5', '77.7', '119.3', '81.8', '115.0', '70.6', '159.4', '62.9',\n",
       "       '130.5', '69.4', '167.9', '66.6', '153.4', '66.1', '79.7', '117.7',\n",
       "       '110.9', '84.6', '145.7', '61.3', '87.5', '117.8', '87.7', '85.1',\n",
       "       '88.6', '123.4', '.'], dtype=object)"
      ]
     },
     "execution_count": 29,
     "metadata": {},
     "output_type": "execute_result"
    }
   ],
   "source": [
    "infl_m.inflation.unique()"
   ]
  },
  {
   "attachments": {},
   "cell_type": "markdown",
   "metadata": {},
   "source": [
    "The problem is caused by the **'.'** [dot] char (see the tail in the array above), when the inflation value is not provided. Investigating this scenario, we can see that it occurs only for one particular category of goods (<font color=#ff7f0e>Articles for personal hygiene...</font>) and households (the <font color=#ff7f0e>GRAND TOTAL</font> case), in the limited period of time from January 2010 to December 2013 (48 records in total):"
   ]
  },
  {
   "cell_type": "code",
   "execution_count": 30,
   "metadata": {},
   "outputs": [
    {
     "data": {
      "text/plain": [
       "(array(['A r t i c l e s   f o r   p e r s o n a l   h y g i e n e   a n d   w e l l n e s s ,   e s o t e r i c   p r o d u c t s   a n d   b e a u t y   p r o d u c t s '],\n",
       "       dtype=object),\n",
       " array(['G R A N D   T O T A L'], dtype=object),\n",
       " array(['2010 I', '2010 II', '2010 III', '2010 IV', '2010 V', '2010 VI',\n",
       "        '2010 VII', '2010 VIII', '2010 IX', '2010 X', '2010 XI',\n",
       "        '2010 XII', '2011 I', '2011 II', '2011 III', '2011 IV', '2011 V',\n",
       "        '2011 VI', '2011 VII', '2011 VIII', '2011 IX', '2011 X', '2011 XI',\n",
       "        '2011 XII', '2012 I', '2012 II', '2012 III', '2012 IV', '2012 V',\n",
       "        '2012 VI', '2012 VII', '2012 VIII', '2012 IX', '2012 X', '2012 XI',\n",
       "        '2012 XII', '2013 I', '2013 II', '2013 III', '2013 IV', '2013 V',\n",
       "        '2013 VI', '2013 VII', '2013 VIII', '2013 IX', '2013 X', '2013 XI',\n",
       "        '2013 XII'], dtype=object))"
      ]
     },
     "execution_count": 30,
     "metadata": {},
     "output_type": "execute_result"
    }
   ],
   "source": [
    "infl_m[infl_m.inflation == '.'].good.unique(),\\\n",
    "infl_m[infl_m.inflation == '.'].household.unique(),\\\n",
    "infl_m[infl_m.inflation == '.'].date.values"
   ]
  },
  {
   "attachments": {},
   "cell_type": "markdown",
   "metadata": {},
   "source": [
    "The exclusion of the above records won't effect the analysis essentially, so we can drop them from the data frame and transform the values into floats.\n",
    "\n",
    "**Note**: We should handle the NaNs in the considered data carefully, since the absence of value does not implicate, that the price of product/service remained unchanged."
   ]
  },
  {
   "cell_type": "code",
   "execution_count": 31,
   "metadata": {},
   "outputs": [],
   "source": [
    "infl_m = infl_m[infl_m.inflation != '.'].assign(\n",
    "    inflation=lambda x: x.inflation.astype('float')\n",
    ")"
   ]
  },
  {
   "attachments": {},
   "cell_type": "markdown",
   "metadata": {},
   "source": [
    "Now we can work on the **date** column. As shown above, the months are denoted using roman numerals - we have to improve these first, transforming them into the arabic notation. Since we will encounter this problem with other datasets also, we can define a function to solve it easily (see the `roman_arabic_transform` function in the <a href='utils.py'>`utils.py`</a> module for details)."
   ]
  },
  {
   "cell_type": "code",
   "execution_count": 32,
   "metadata": {},
   "outputs": [
    {
     "data": {
      "text/plain": [
       "0   2010-01-01\n",
       "1   2010-02-01\n",
       "2   2010-03-01\n",
       "Name: date, dtype: datetime64[ns]"
      ]
     },
     "execution_count": 32,
     "metadata": {},
     "output_type": "execute_result"
    }
   ],
   "source": [
    "from utils import roman_arabic_transform\n",
    "\n",
    "roman_arabic_transform(infl_m, 'date')\n",
    "\n",
    "infl_m.date[:3]  # exemplary dates"
   ]
  },
  {
   "attachments": {},
   "cell_type": "markdown",
   "metadata": {},
   "source": [
    "The proper data types are given as follows:"
   ]
  },
  {
   "cell_type": "code",
   "execution_count": 33,
   "metadata": {},
   "outputs": [
    {
     "data": {
      "text/plain": [
       "good                 object\n",
       "household            object\n",
       "date         datetime64[ns]\n",
       "inflation           float64\n",
       "dtype: object"
      ]
     },
     "execution_count": 33,
     "metadata": {},
     "output_type": "execute_result"
    }
   ],
   "source": [
    "infl_m.dtypes"
   ]
  },
  {
   "attachments": {},
   "cell_type": "markdown",
   "metadata": {},
   "source": [
    "In the next step, we examine the **household** column, which stores different groups of households."
   ]
  },
  {
   "cell_type": "code",
   "execution_count": 34,
   "metadata": {},
   "outputs": [
    {
     "data": {
      "text/plain": [
       "array(['G R A N D   T O T A L', 'Households of employees',\n",
       "       'Households of farmers', 'Households of the selfemployed',\n",
       "       'Households of retirees and pensioners', 'Households of retirees',\n",
       "       'Households of pensioners',\n",
       "       'Households maintained from non-earned sources'], dtype=object)"
      ]
     },
     "execution_count": 34,
     "metadata": {},
     "output_type": "execute_result"
    }
   ],
   "source": [
    "infl_m.household.unique()"
   ]
  },
  {
   "attachments": {},
   "cell_type": "markdown",
   "metadata": {},
   "source": [
    "As one can see, the data contain separate <font color=#ff7f0e>Households of retirees</font> and <font color=#ff7f0e>Households of pensioners</font> categories, but also the general <font color=#ff7f0e>Households of retirees and pensioners</font> group. Since the first two groups are more detailed, we can remove the latter one. We will also improve the <font color=#ff7f0e>G R A N D &ensp;T O T A L</font> label to make it more readable (the category corresponds to the inflation rate across all the households) and the <font color=#ff7f0e>Households of selfemployed</font> one, since the hyphen got lost somewhere."
   ]
  },
  {
   "cell_type": "code",
   "execution_count": 35,
   "metadata": {},
   "outputs": [],
   "source": [
    "infl_m.query('household != \"Households of retirees and pensioners\"', \n",
    "    inplace=True)\n",
    "\n",
    "infl_m.household.replace('G R A N D   T O T A L', 'GRAND TOTAL', inplace=True)\n",
    "infl_m.household.replace('selfemployed', 'self-employed', \n",
    "    regex=True, inplace=True)"
   ]
  },
  {
   "attachments": {},
   "cell_type": "markdown",
   "metadata": {},
   "source": [
    "In the last step we have to clean the **good** column, which contains the labels of different consumer goods and services:"
   ]
  },
  {
   "cell_type": "code",
   "execution_count": 36,
   "metadata": {},
   "outputs": [
    {
     "data": {
      "text/plain": [
       "array(['G R A N D   T O T A L ', 'FOOD AND NON-ALCOHOLIC BEVERAGES',\n",
       "       'Food', 'B r e a d   a n d   c e r e a l s ', 'Bread', 'M e a t ',\n",
       "       'Fresh, chilled or frozen meat', '   beef', '   pork',\n",
       "       '   poultry', 'Processed meat and other meat preparations',\n",
       "       'F i s h   a n d   s e a f o o d ',\n",
       "       'Fresh, chilled or frozen seafood and fish',\n",
       "       'Preserved or processed fish and seafood',\n",
       "       'M i l k ,   c h e e s e   a n d   e g g s ', 'Milk',\n",
       "       'Yoghurt, cream, milk-based desserts, milk-based beverages and other similar milk-based products',\n",
       "       'Cheese and curd', '   ripening and processed cheese', 'Eggs',\n",
       "       'O i l s   a n d   f a t s ', 'Butter',\n",
       "       'Margarine and other vegetable fats', 'Other edible oils',\n",
       "       'F r u i t ', 'V e g e t a b l e s ',\n",
       "       'S u g a r ,   j a m ,   h o n e y ,   c h o c o l a t e   a n d   c o n f e c t i o n e r y ',\n",
       "       'Sugar', 'Non-alcoholic beverages',\n",
       "       'C o f f e e ,   t e a   a n d   c o c o a ', 'Coffee', 'Tea',\n",
       "       'M i n e r a l   w a t e r s ,   s o f t   d r i n k s ,   f r u i t   a n d   v e g e t a b l e   j u i c e s ',\n",
       "       'ALCOHOLIC BEVERAGES AND TOBACCO', 'Alcoholic beverages',\n",
       "       'Tobacco', 'CLOTHING AND FOOTWEAR', 'Clothing', 'Footwear',\n",
       "       'HOUSING, WATER, ELECTRICITY, GAS AND OTHER FUELS',\n",
       "       'Actual rentals for housing', 'Electricity,gas and other fuels',\n",
       "       'E l e c t r i c i t y ', 'G a s ',\n",
       "       'L i q u i d   a n d   s o l i d   f u e l s ',\n",
       "       'H e a t   e n e r g y ',\n",
       "       'FURNISHINGS, HOUSEHOLD EQUIPMENT AND ROUTINE MAINTENANCE OF THE HOUSE',\n",
       "       'Furniture and furnishings, carpets and other floor coverings',\n",
       "       'Household appliances', 'HEALTH',\n",
       "       'Medical products, appliances and equipment',\n",
       "       'P h a r m a c e u t i c a l   p r o d u c t s ',\n",
       "       'Out-patient services', 'M e d i c a l   s e r v i c e s ',\n",
       "       'TRANSPORT', 'Purchase of vehicles',\n",
       "       'Operation of personal transport equipment', 'F u e l s ',\n",
       "       'Petrol', 'Diesel oil', 'Transport services',\n",
       "       'P a s s e n g e r   t r a n s p o r t   b y   t r a i n ',\n",
       "       'COMMUNICATIONS', 'Postal services',\n",
       "       'Telephone and telefax equipment and telephone and telefax services',\n",
       "       'RECREATION AND CULTURE',\n",
       "       'Audio-visual, photographic and information processing equipment',\n",
       "       'Recreational and cultural services',\n",
       "       'Newspapers, books and stationery', 'EDUCATION',\n",
       "       'RESTAURANTS AND HOTELS', 'MISCELLANEOUS GOODS AND SERVICES',\n",
       "       'Personal care',\n",
       "       'A r t i c l e s   f o r   p e r s o n a l   h y g i e n e   a n d   w e l l n e s s ,   e s o t e r i c   p r o d u c t s   a n d   b e a u t y   p r o d u c t s '],\n",
       "      dtype=object)"
      ]
     },
     "execution_count": 36,
     "metadata": {},
     "output_type": "execute_result"
    }
   ],
   "source": [
    "infl_m['good'].unique()"
   ]
  },
  {
   "attachments": {},
   "cell_type": "markdown",
   "metadata": {},
   "source": [
    "The main groups of goods/services are denoted using capital letters, e.g. the <font color=#ff7f0e>FOOD AND NON-ALCOHOLIC BEVERAGES</font> category - we will leave these unchanged and make use of this specific notation during the analysis.\n",
    "\n",
    "Many of the other labels include excessive blank spaces between the letters, which indicate some kind of subcategories (e.g., the <font color=#ff7f0e>M e a t</font> one), but since there is no consistency in this, we will remove the blanks. To not disrupt the properly given labels, we can count the ratio between the number of spaces and the label length, and remove the blanks only if it is high enough - the threshold of 0.4 works fine here; the words themselves are separated by three spaces, which will allow to preserve the distances between them. Finally, we will remove the 'three spaces' blanks and capitalize the labels, since few of them begins with spaces only (see, e.g., the <font color=#ff7f0e>' &ensp;beef'</font> one)."
   ]
  },
  {
   "cell_type": "code",
   "execution_count": 37,
   "metadata": {},
   "outputs": [],
   "source": [
    "goods = infl_m.good.unique()  # old labels\n",
    "goods_impr = []  # new labels\n",
    "\n",
    "for good in goods:\n",
    "    good = good.replace('   ', '_')  # store 3xspace as different char\n",
    "    if good.count(' ') >= 0.4 * len(good):\n",
    "        good = good.replace(' ', '')  # remove extra spaces\n",
    "    good = good.replace('_', ' ')  # improve 3xspace\n",
    "    if good[0] == ' ':\n",
    "        good = good[1:].capitalize()  # remove beginning space and capitalize\n",
    "    goods_impr.append(good)\n",
    "\n",
    "infl_m.good.replace(goods, goods_impr, inplace=True)"
   ]
  },
  {
   "attachments": {},
   "cell_type": "markdown",
   "metadata": {},
   "source": [
    "### Inflation quarterly\n",
    "\n",
    "In the previous case, we have worked on the inflation data, that was estimated for the whole country. The [Prices Knowledge Database](http://swaid.stat.gov.pl/EN/Ceny_dashboards/Raporty_predefiniowane/RAP_DBD_CEN_5.aspx) allows also to access the price indices with an additional split into different voivodeships, but in this scenario, the values are collected within quarter intervals only. Despite of the granularity decrease, we will use these data to compare the inflation between different regions of Poland.\n",
    "\n",
    "The <a href='raw_data/inflation_quarterly.csv'>`inflation_quarterly.csv`</a> file contains the values from 2010-Q1 to 2022-Q3 (this time interval is shorter than the one used in the monthly data), separated into different voivodeships and consumer goods/services. The methodology of the data collection is preserved as previously."
   ]
  },
  {
   "cell_type": "code",
   "execution_count": 38,
   "metadata": {},
   "outputs": [
    {
     "data": {
      "text/html": [
       "<div>\n",
       "<style scoped>\n",
       "    .dataframe tbody tr th:only-of-type {\n",
       "        vertical-align: middle;\n",
       "    }\n",
       "\n",
       "    .dataframe tbody tr th {\n",
       "        vertical-align: top;\n",
       "    }\n",
       "\n",
       "    .dataframe thead th {\n",
       "        text-align: right;\n",
       "    }\n",
       "</style>\n",
       "<table border=\"1\" class=\"dataframe\">\n",
       "  <thead>\n",
       "    <tr style=\"text-align: right;\">\n",
       "      <th></th>\n",
       "      <th>Textbox5</th>\n",
       "      <th>Textbox6</th>\n",
       "      <th>TOWARY_I_USŁUGI_KONSUMPCYJNE</th>\n",
       "      <th>NAZWA_WOJ</th>\n",
       "      <th>KOD_ROK_KWARTAL_RZYM</th>\n",
       "      <th>WARTOSC_OST_blok51</th>\n",
       "    </tr>\n",
       "  </thead>\n",
       "  <tbody>\n",
       "    <tr>\n",
       "      <th>6480</th>\n",
       "      <td>Consumer goods and services</td>\n",
       "      <td>Territorial unit</td>\n",
       "      <td>Transport</td>\n",
       "      <td>OPOLSKIE</td>\n",
       "      <td>2010 X-XII</td>\n",
       "      <td>100.9</td>\n",
       "    </tr>\n",
       "    <tr>\n",
       "      <th>5032</th>\n",
       "      <td>Consumer goods and services</td>\n",
       "      <td>Territorial unit</td>\n",
       "      <td>Furnishings, household equipment and routine m...</td>\n",
       "      <td>SWIETOKRZYSKIE</td>\n",
       "      <td>2018 VII-IX</td>\n",
       "      <td>100.7</td>\n",
       "    </tr>\n",
       "    <tr>\n",
       "      <th>7509</th>\n",
       "      <td>Consumer goods and services</td>\n",
       "      <td>Territorial unit</td>\n",
       "      <td>Recreation and culture</td>\n",
       "      <td>POMORSKIE</td>\n",
       "      <td>2013 I-III</td>\n",
       "      <td>101.0</td>\n",
       "    </tr>\n",
       "    <tr>\n",
       "      <th>7341</th>\n",
       "      <td>Consumer goods and services</td>\n",
       "      <td>Territorial unit</td>\n",
       "      <td>Recreation and culture</td>\n",
       "      <td>MAZOWIECKIE</td>\n",
       "      <td>2022 I-III</td>\n",
       "      <td>104.0</td>\n",
       "    </tr>\n",
       "    <tr>\n",
       "      <th>7691</th>\n",
       "      <td>Consumer goods and services</td>\n",
       "      <td>Territorial unit</td>\n",
       "      <td>Recreation and culture</td>\n",
       "      <td>WARMINSKO-MAZURSKIE</td>\n",
       "      <td>2020 IV-VI</td>\n",
       "      <td>100.2</td>\n",
       "    </tr>\n",
       "  </tbody>\n",
       "</table>\n",
       "</div>"
      ],
      "text/plain": [
       "                         Textbox5          Textbox6  \\\n",
       "6480  Consumer goods and services  Territorial unit   \n",
       "5032  Consumer goods and services  Territorial unit   \n",
       "7509  Consumer goods and services  Territorial unit   \n",
       "7341  Consumer goods and services  Territorial unit   \n",
       "7691  Consumer goods and services  Territorial unit   \n",
       "\n",
       "                           TOWARY_I_USŁUGI_KONSUMPCYJNE            NAZWA_WOJ  \\\n",
       "6480                                          Transport             OPOLSKIE   \n",
       "5032  Furnishings, household equipment and routine m...       SWIETOKRZYSKIE   \n",
       "7509                             Recreation and culture            POMORSKIE   \n",
       "7341                             Recreation and culture          MAZOWIECKIE   \n",
       "7691                             Recreation and culture  WARMINSKO-MAZURSKIE   \n",
       "\n",
       "     KOD_ROK_KWARTAL_RZYM  WARTOSC_OST_blok51  \n",
       "6480           2010 X-XII               100.9  \n",
       "5032          2018 VII-IX               100.7  \n",
       "7509           2013 I-III               101.0  \n",
       "7341           2022 I-III               104.0  \n",
       "7691           2020 IV-VI               100.2  "
      ]
     },
     "execution_count": 38,
     "metadata": {},
     "output_type": "execute_result"
    }
   ],
   "source": [
    "infl_q = pd.read_csv('raw_data/inflation_quarterly.csv', skiprows=6)\n",
    "\n",
    "infl_q.sample(5, random_state=0)"
   ]
  },
  {
   "attachments": {},
   "cell_type": "markdown",
   "metadata": {},
   "source": [
    "Similarly to the monthly file, we have to exclude unnecessary columns and rename the headers."
   ]
  },
  {
   "cell_type": "code",
   "execution_count": 39,
   "metadata": {},
   "outputs": [
    {
     "data": {
      "text/plain": [
       "good            object\n",
       "voivodeship     object\n",
       "date            object\n",
       "inflation      float64\n",
       "dtype: object"
      ]
     },
     "execution_count": 39,
     "metadata": {},
     "output_type": "execute_result"
    }
   ],
   "source": [
    "infl_q = infl_q.iloc[:, 2:6]\n",
    "infl_q.columns = ['good', 'voivodeship', 'date', 'inflation']\n",
    "\n",
    "infl_q.dtypes"
   ]
  },
  {
   "attachments": {},
   "cell_type": "markdown",
   "metadata": {},
   "source": [
    "In this case, the **inflation** column contains only numeric values, but we have to improve the **date** one. We can use the same function as the one before, since it allows to work with roman numerals denoting quarters also."
   ]
  },
  {
   "cell_type": "code",
   "execution_count": 40,
   "metadata": {},
   "outputs": [],
   "source": [
    "roman_arabic_transform(infl_q, 'date', True)"
   ]
  },
  {
   "attachments": {},
   "cell_type": "markdown",
   "metadata": {},
   "source": [
    "Investigating the **good** and the **voivodeship** columns in the cell below, we can see, that the goods are split into main categories only (previously denoted by capital letters). The names of the voivodeships are given in Polish; we will leave them unchanged, except for the <font color=#ff7f0e>POLSKA</font> (Poland) label. A simple cleaning will make this data frame more compatible with the previous (and the next) one."
   ]
  },
  {
   "cell_type": "code",
   "execution_count": 41,
   "metadata": {},
   "outputs": [
    {
     "data": {
      "text/plain": [
       "(array(['G R A N D   T O T A L  ', 'Food and non-alcoholic beverages',\n",
       "        'Alcoholic beverages and tobacco', 'Clothing and footwear',\n",
       "        'Housing, water, electricity, gas and other fuels',\n",
       "        'Furnishings, household equipment and routine maintenance of the house',\n",
       "        'Health', 'Transport', 'Recreation and culture', 'Education'],\n",
       "       dtype=object),\n",
       " array(['POLSKA', 'DOLNOSLASKIE', 'KUJAWSKO-POMORSKIE', 'LODZKIE',\n",
       "        'LUBELSKIE', 'LUBUSKIE', 'MALOPOLSKIE', 'MAZOWIECKIE', 'OPOLSKIE',\n",
       "        'PODKARPACKIE', 'PODLASKIE', 'POMORSKIE', 'SLASKIE',\n",
       "        'SWIETOKRZYSKIE', 'WARMINSKO-MAZURSKIE', 'WIELKOPOLSKIE',\n",
       "        'ZACHODNIOPOMORSKIE'], dtype=object))"
      ]
     },
     "execution_count": 41,
     "metadata": {},
     "output_type": "execute_result"
    }
   ],
   "source": [
    "infl_q.good.unique(), infl_q.voivodeship.unique()"
   ]
  },
  {
   "cell_type": "code",
   "execution_count": 42,
   "metadata": {},
   "outputs": [],
   "source": [
    "# improve the 'good' column\n",
    "infl_q.good.replace('G R A N D   T O T A L  ', 'GRAND TOTAL', inplace=True)\n",
    "infl_q.good = infl_q.good.str.upper()\n",
    "\n",
    "# improve the 'voivodeship' column\n",
    "infl_q.voivodeship.replace('POLSKA', 'POLAND', inplace=True)"
   ]
  },
  {
   "attachments": {},
   "cell_type": "markdown",
   "metadata": {},
   "source": [
    "### The prices\n",
    "\n",
    "The Prices Knowledge Database allows to access the retail absolute prices of selected goods and services (although the number of products is strongly limited). We can use this to examine how the prices of particular products changed in time, along with the dynamics of inflation itself.\n",
    "\n",
    "In this section we work with two files:\n",
    "\n",
    "* the <a href='raw_data/prices_food.csv'>`prices_food.csv`</a>, containing the monthly prices of selected foodstuffs by voivodeship (see [here](http://swaid.stat.gov.pl/EN/Ceny_dashboards/Raporty_predefiniowane/RAP_DBD_CEN_8.aspx) for details), and\n",
    "* the <a href='raw_data/prices_non_food.csv'>`prices_non_food.csv`</a>, where one can find the monthly prices of selected non-foodstuffs and services (the data is available only globally for the whole country; see [here](http://swaid.stat.gov.pl/EN/Ceny_dashboards/Raporty_predefiniowane/RAP_DBD_CEN_9.aspx) for details).\n",
    "\n",
    "The time interval corresponds to the one chosen before (January 2010 - March 2023), and the prices are given in Polish Zloty (PLN)."
   ]
  },
  {
   "cell_type": "code",
   "execution_count": 43,
   "metadata": {},
   "outputs": [],
   "source": [
    "prices_f = pd.read_csv('raw_data/prices_food.csv', skiprows=5)\n",
    "prices_nf = pd.read_csv('raw_data/prices_non_food.csv', skiprows=3)"
   ]
  },
  {
   "attachments": {},
   "cell_type": "markdown",
   "metadata": {},
   "source": [
    "Let's start from the foodstuffs data frame."
   ]
  },
  {
   "cell_type": "code",
   "execution_count": 44,
   "metadata": {},
   "outputs": [
    {
     "data": {
      "text/html": [
       "<div>\n",
       "<style scoped>\n",
       "    .dataframe tbody tr th:only-of-type {\n",
       "        vertical-align: middle;\n",
       "    }\n",
       "\n",
       "    .dataframe tbody tr th {\n",
       "        vertical-align: top;\n",
       "    }\n",
       "\n",
       "    .dataframe thead th {\n",
       "        text-align: right;\n",
       "    }\n",
       "</style>\n",
       "<table border=\"1\" class=\"dataframe\">\n",
       "  <thead>\n",
       "    <tr style=\"text-align: right;\">\n",
       "      <th></th>\n",
       "      <th>Textbox10</th>\n",
       "      <th>Textbox3</th>\n",
       "      <th>KOD_TOWARY_ZYWN2</th>\n",
       "      <th>NAZWA_WOJ1</th>\n",
       "      <th>KOD_ROK_MIESIAC_RZYM</th>\n",
       "      <th>WARTOSC_OST_blok8</th>\n",
       "    </tr>\n",
       "  </thead>\n",
       "  <tbody>\n",
       "    <tr>\n",
       "      <th>34841</th>\n",
       "      <td>Specification</td>\n",
       "      <td>Territorial unit</td>\n",
       "      <td>Cottage cheese - per kg</td>\n",
       "      <td>WIELKOPOLSKIE</td>\n",
       "      <td>2011 IX</td>\n",
       "      <td>11.18</td>\n",
       "    </tr>\n",
       "    <tr>\n",
       "      <th>44639</th>\n",
       "      <td>Specification</td>\n",
       "      <td>Territorial unit</td>\n",
       "      <td>Oranges - per kg</td>\n",
       "      <td>OPOLSKIE</td>\n",
       "      <td>2019 XII</td>\n",
       "      <td>4.89</td>\n",
       "    </tr>\n",
       "    <tr>\n",
       "      <th>6555</th>\n",
       "      <td>Specification</td>\n",
       "      <td>Territorial unit</td>\n",
       "      <td>Pearl-barley - per 0.5 kg</td>\n",
       "      <td>MAZOWIECKIE</td>\n",
       "      <td>2013 I</td>\n",
       "      <td>2.47</td>\n",
       "    </tr>\n",
       "    <tr>\n",
       "      <th>3283</th>\n",
       "      <td>Specification</td>\n",
       "      <td>Territorial unit</td>\n",
       "      <td>Wheat flour - per kg</td>\n",
       "      <td>LODZKIE</td>\n",
       "      <td>2018 VIII</td>\n",
       "      <td>2.59</td>\n",
       "    </tr>\n",
       "    <tr>\n",
       "      <th>4520</th>\n",
       "      <td>Specification</td>\n",
       "      <td>Territorial unit</td>\n",
       "      <td>Wheat flour - per kg</td>\n",
       "      <td>POMORSKIE</td>\n",
       "      <td>2015 IX</td>\n",
       "      <td>2.50</td>\n",
       "    </tr>\n",
       "  </tbody>\n",
       "</table>\n",
       "</div>"
      ],
      "text/plain": [
       "           Textbox10          Textbox3           KOD_TOWARY_ZYWN2  \\\n",
       "34841  Specification  Territorial unit    Cottage cheese - per kg   \n",
       "44639  Specification  Territorial unit           Oranges - per kg   \n",
       "6555   Specification  Territorial unit  Pearl-barley - per 0.5 kg   \n",
       "3283   Specification  Territorial unit       Wheat flour - per kg   \n",
       "4520   Specification  Territorial unit       Wheat flour - per kg   \n",
       "\n",
       "          NAZWA_WOJ1 KOD_ROK_MIESIAC_RZYM  WARTOSC_OST_blok8  \n",
       "34841  WIELKOPOLSKIE              2011 IX              11.18  \n",
       "44639       OPOLSKIE             2019 XII               4.89  \n",
       "6555     MAZOWIECKIE               2013 I               2.47  \n",
       "3283         LODZKIE            2018 VIII               2.59  \n",
       "4520       POMORSKIE              2015 IX               2.50  "
      ]
     },
     "execution_count": 44,
     "metadata": {},
     "output_type": "execute_result"
    }
   ],
   "source": [
    "prices_f.sample(5, random_state=0)"
   ]
  },
  {
   "attachments": {},
   "cell_type": "markdown",
   "metadata": {},
   "source": [
    "The basic cleaning includes removing and renaming the columns, and correcting the dates (it can be easily shown, that all of the prices are available without any NaNs)."
   ]
  },
  {
   "cell_type": "code",
   "execution_count": 45,
   "metadata": {},
   "outputs": [],
   "source": [
    "prices_f = prices_f.iloc[:, 2:6]\n",
    "prices_f.columns = ['good', 'voivodeship', 'date', 'price']\n",
    "\n",
    "roman_arabic_transform(prices_f, 'date')"
   ]
  },
  {
   "attachments": {},
   "cell_type": "markdown",
   "metadata": {},
   "source": [
    "In this case, the labels for both goods and voivodeships are all perfectly denoted:"
   ]
  },
  {
   "cell_type": "code",
   "execution_count": 46,
   "metadata": {},
   "outputs": [
    {
     "data": {
      "text/plain": [
       "(array(['Wheat-rye bread - per 0.5 kg', 'Wheat flour - per kg',\n",
       "        'Pearl-barley - per 0.5 kg', 'Beef meat, bone-in - per kg',\n",
       "        'Beef meat, boneless - per kg',\n",
       "        'Pork meat, boneless (loin) - per kg',\n",
       "        'Disembowelled chicken - per kg',\n",
       "        'Pork ham, e.g. boiled, smoked - per kg',\n",
       "        'Poultry sirloin - per kg', 'Smoked sausage - per kg',\n",
       "        'Filets of hake, frozen - per kg',\n",
       "        \"Cows' milk, fat content 3-3.5%, sterilized - per l\",\n",
       "        'Cottage cheese - per kg', 'Hen eggs, fresh - per piece',\n",
       "        'Fresh butter, fat content about 82.5% - per 200 g',\n",
       "        'Rape-oil, domestic production - per l', 'Oranges - per kg',\n",
       "        'Apples - per kg', 'Beetroots - per kg', 'Carrots - per kg',\n",
       "        'Onions - per kg', 'Potatoes - per kg',\n",
       "        'White sugar, crystallized - per kg', 'Apple juice - per l'],\n",
       "       dtype=object),\n",
       " array(['POLAND', 'DOLNOSLASKIE', 'KUJAWSKO-POMORSKIE', 'LODZKIE',\n",
       "        'LUBELSKIE', 'LUBUSKIE', 'MALOPOLSKIE', 'MAZOWIECKIE', 'OPOLSKIE',\n",
       "        'PODKARPACKIE', 'PODLASKIE', 'POMORSKIE', 'SLASKIE',\n",
       "        'SWIETOKRZYSKIE', 'WARMINSKO-MAZURSKIE', 'WIELKOPOLSKIE',\n",
       "        'ZACHODNIOPOMORSKIE'], dtype=object))"
      ]
     },
     "execution_count": 46,
     "metadata": {},
     "output_type": "execute_result"
    }
   ],
   "source": [
    "prices_f.good.unique(), prices_f.voivodeship.unique()"
   ]
  },
  {
   "attachments": {},
   "cell_type": "markdown",
   "metadata": {},
   "source": [
    "Now let us examine the second frame with the prices of non-foodstuffs and services."
   ]
  },
  {
   "cell_type": "code",
   "execution_count": 47,
   "metadata": {},
   "outputs": [
    {
     "data": {
      "text/html": [
       "<div>\n",
       "<style scoped>\n",
       "    .dataframe tbody tr th:only-of-type {\n",
       "        vertical-align: middle;\n",
       "    }\n",
       "\n",
       "    .dataframe tbody tr th {\n",
       "        vertical-align: top;\n",
       "    }\n",
       "\n",
       "    .dataframe thead th {\n",
       "        text-align: right;\n",
       "    }\n",
       "</style>\n",
       "<table border=\"1\" class=\"dataframe\">\n",
       "  <thead>\n",
       "    <tr style=\"text-align: right;\">\n",
       "      <th></th>\n",
       "      <th>Textbox2</th>\n",
       "      <th>KOD_TOWARY_NZYWN</th>\n",
       "      <th>KOD_ROKU</th>\n",
       "      <th>WARTOSC_OST_blok9</th>\n",
       "    </tr>\n",
       "  </thead>\n",
       "  <tbody>\n",
       "    <tr>\n",
       "      <th>1369</th>\n",
       "      <td>Specification</td>\n",
       "      <td>Natural net-gas for households (W-1.1 tariff) ...</td>\n",
       "      <td>2018 II</td>\n",
       "      <td>0.21</td>\n",
       "    </tr>\n",
       "    <tr>\n",
       "      <th>3188</th>\n",
       "      <td>Specification</td>\n",
       "      <td>\"Geriavit\", capsules 100 pcs</td>\n",
       "      <td>2010 IX</td>\n",
       "      <td>94.30</td>\n",
       "    </tr>\n",
       "    <tr>\n",
       "      <th>499</th>\n",
       "      <td>Specification</td>\n",
       "      <td>Trousers (aged 6-11), jeans type</td>\n",
       "      <td>2011 XI</td>\n",
       "      <td>66.40</td>\n",
       "    </tr>\n",
       "    <tr>\n",
       "      <th>6423</th>\n",
       "      <td>Specification</td>\n",
       "      <td>Hair-shampoo – per 400 ml</td>\n",
       "      <td>2015 IV</td>\n",
       "      <td>9.03</td>\n",
       "    </tr>\n",
       "    <tr>\n",
       "      <th>3450</th>\n",
       "      <td>Specification</td>\n",
       "      <td>\"Ibuprofen\", coated tablets 200 mg 60 pcs</td>\n",
       "      <td>2019 IV</td>\n",
       "      <td>6.92</td>\n",
       "    </tr>\n",
       "  </tbody>\n",
       "</table>\n",
       "</div>"
      ],
      "text/plain": [
       "           Textbox2                                   KOD_TOWARY_NZYWN  \\\n",
       "1369  Specification  Natural net-gas for households (W-1.1 tariff) ...   \n",
       "3188  Specification                       \"Geriavit\", capsules 100 pcs   \n",
       "499   Specification                   Trousers (aged 6-11), jeans type   \n",
       "6423  Specification                          Hair-shampoo – per 400 ml   \n",
       "3450  Specification          \"Ibuprofen\", coated tablets 200 mg 60 pcs   \n",
       "\n",
       "     KOD_ROKU WARTOSC_OST_blok9  \n",
       "1369  2018 II              0.21  \n",
       "3188  2010 IX             94.30  \n",
       "499   2011 XI             66.40  \n",
       "6423  2015 IV              9.03  \n",
       "3450  2019 IV              6.92  "
      ]
     },
     "execution_count": 47,
     "metadata": {},
     "output_type": "execute_result"
    }
   ],
   "source": [
    "prices_nf.sample(5, random_state=0)"
   ]
  },
  {
   "attachments": {},
   "cell_type": "markdown",
   "metadata": {},
   "source": [
    "We can drop the first column, rename the headers and transform the roman notation of the dates. In the considered case, the labels of the goods are also properly denoted (which can be easily examined), but some of them contain double quotation marks. We will change these into the single ones for clarity."
   ]
  },
  {
   "cell_type": "code",
   "execution_count": 48,
   "metadata": {},
   "outputs": [],
   "source": [
    "prices_nf = prices_nf.iloc[:, 1:4]\n",
    "prices_nf.columns = ['good', 'date', 'price']\n",
    "\n",
    "roman_arabic_transform(prices_nf, 'date')\n",
    "\n",
    "prices_nf.good.replace('\"', \"'\", regex=True, inplace=True)"
   ]
  },
  {
   "attachments": {},
   "cell_type": "markdown",
   "metadata": {},
   "source": [
    "By extracting the data types we can see, that the values in the **price** column are not treated as numerics:"
   ]
  },
  {
   "cell_type": "code",
   "execution_count": 49,
   "metadata": {},
   "outputs": [
    {
     "data": {
      "text/plain": [
       "good             object\n",
       "date     datetime64[ns]\n",
       "price            object\n",
       "dtype: object"
      ]
     },
     "execution_count": 49,
     "metadata": {},
     "output_type": "execute_result"
    }
   ],
   "source": [
    "prices_nf.dtypes"
   ]
  },
  {
   "attachments": {},
   "cell_type": "markdown",
   "metadata": {},
   "source": [
    "We have encountered a similar issue for the monthly inflation data before. To investigate what is causing the problem, we can grab the unique values from the column and sort the results, presuming that non-numeric chars will be located in the front or the tail."
   ]
  },
  {
   "cell_type": "code",
   "execution_count": 50,
   "metadata": {},
   "outputs": [
    {
     "data": {
      "text/plain": [
       "Index(['.', '0.21', '0.22', '0.23', '0.24', '0.25', '0.26', '0.27', '0.28',\n",
       "       '0.32',\n",
       "       ...\n",
       "       '99.51', '99.73', '99.75', '99.97', '99.98', '992.06', '992.77',\n",
       "       '996.34', '996.85', 'X'],\n",
       "      dtype='object', length=3664)"
      ]
     },
     "execution_count": 50,
     "metadata": {},
     "output_type": "execute_result"
    }
   ],
   "source": [
    "pd.Index(prices_nf.price.unique()).sort_values()"
   ]
  },
  {
   "attachments": {},
   "cell_type": "markdown",
   "metadata": {},
   "source": [
    "As we can see, there are **'.'** and **'X'** chars in the column, which denote the absence of price of particular good(s). To clarify the data frame, we change the chars into NaNs and transform the prices into floats."
   ]
  },
  {
   "cell_type": "code",
   "execution_count": 51,
   "metadata": {},
   "outputs": [
    {
     "name": "stdout",
     "output_type": "stream",
     "text": [
      "<class 'pandas.core.frame.DataFrame'>\n",
      "RangeIndex: 6678 entries, 0 to 6677\n",
      "Data columns (total 3 columns):\n",
      " #   Column  Non-Null Count  Dtype         \n",
      "---  ------  --------------  -----         \n",
      " 0   good    6678 non-null   object        \n",
      " 1   date    6678 non-null   datetime64[ns]\n",
      " 2   price   6117 non-null   float64       \n",
      "dtypes: datetime64[ns](1), float64(1), object(1)\n",
      "memory usage: 156.6+ KB\n"
     ]
    }
   ],
   "source": [
    "prices_nf.price.replace(['.', 'X'], 'NaN', inplace=True)\n",
    "prices_nf.price = prices_nf.price.astype('float')\n",
    "\n",
    "prices_nf.info()"
   ]
  },
  {
   "attachments": {},
   "cell_type": "markdown",
   "metadata": {},
   "source": [
    "The info uncovers, that among 6678 entires, the prices of 561 records are not available.\n",
    "\n",
    "To investigate the goods with missing data, we can visualize the NaNs as simple scatter plot, using the `matplotlib` package. On the vertical axis we denote the goods with missing prices (at least one NaN record), while on the horizontal axis the available dates. The absence of the point for particular product indicates, that the product price is unavailable for the corresponding date."
   ]
  },
  {
   "cell_type": "code",
   "execution_count": 52,
   "metadata": {},
   "outputs": [
    {
     "data": {
      "image/png": "[encoded data removed]",
      "text/plain": [
       "<Figure size 640x480 with 1 Axes>"
      ]
     },
     "metadata": {},
     "output_type": "display_data"
    }
   ],
   "source": [
    "import matplotlib.pyplot as plt\n",
    "import numpy as np\n",
    "\n",
    "# the goods with missing prices\n",
    "goods_nan = prices_nf[prices_nf.price.isna()].good.unique()\n",
    "\n",
    "# the whole available time interval\n",
    "dates_all = pd.date_range('2010-01-01', '2023-03-01', \n",
    "    freq=pd.offsets.MonthBegin(1)\n",
    ")\n",
    "\n",
    "# plot the available prices for products\n",
    "for good in goods_nan:\n",
    "    dates_nan = prices_nf.query(f'price.isna() and good == \"{good}\"').date\n",
    "    dates_available = dates_all.difference(dates_nan)\n",
    "    plt.scatter(dates_available, np.full(dates_available.size, good))\n",
    "\n",
    "plt.title('The available prices for chosen products');"
   ]
  },
  {
   "attachments": {},
   "cell_type": "markdown",
   "metadata": {},
   "source": [
    "The top seven products in the diagram above have missing prices in a single (continuous) interval - in the beginning or the ending of [2010-01, 2023-03]. For the two washing liquids and the heating of dwellings we have more gaps."
   ]
  },
  {
   "attachments": {},
   "cell_type": "markdown",
   "metadata": {},
   "source": [
    "### The wages\n",
    "\n",
    "So far we have cleaned the prices and the inflation datasets, which will allow us to investigate their dynamics in Poland over the last years. However, to study the impact of inflation on the consumers, we need to access the data on the wages for comparison.\n",
    "\n",
    "In this section we work with the <a href='raw_data/wages.csv'>`wages.csv`</a> file, which has been downloaded using the [Local Data Bank](https://bdl.stat.gov.pl/bdl/dane/podgrup/temat) (Category: <font color=#ff7f0e>WAGES AND SALARIES AND SOCIAL SECURITY BENEFITS</font> -> Group: <font color=#ff7f0e>WAGES AND SALARIES</font> -> Subgroup: <font color=#ff7f0e>Average monthly gross wages and salaries in the enterprise sector by NACE Rev. 2</font>).\n",
    "\n",
    "The file contains the average monthly gross wages in the enterprise sector, which are divided into different sections and voivodeships (including also the aggregated data on the whole country). To make the records compatible with the previous sets, we have chosen the same (monthly) granularity and time frame (2010-01 - 2023-03) as before. All of the parameters can be manipulated when working with the Local Data Bank.\n",
    "\n",
    "As in the case of the prices above, the wages are given in Polish Zloty (PLN)."
   ]
  },
  {
   "cell_type": "code",
   "execution_count": 53,
   "metadata": {},
   "outputs": [
    {
     "data": {
      "text/html": [
       "<div>\n",
       "<style scoped>\n",
       "    .dataframe tbody tr th:only-of-type {\n",
       "        vertical-align: middle;\n",
       "    }\n",
       "\n",
       "    .dataframe tbody tr th {\n",
       "        vertical-align: top;\n",
       "    }\n",
       "\n",
       "    .dataframe thead th {\n",
       "        text-align: right;\n",
       "    }\n",
       "</style>\n",
       "<table border=\"1\" class=\"dataframe\">\n",
       "  <thead>\n",
       "    <tr style=\"text-align: right;\">\n",
       "      <th></th>\n",
       "      <th>Code</th>\n",
       "      <th>Name</th>\n",
       "      <th>January;total;2010;[PLN]</th>\n",
       "      <th>January;total;2011;[PLN]</th>\n",
       "      <th>January;total;2012;[PLN]</th>\n",
       "      <th>January;total;2013;[PLN]</th>\n",
       "      <th>January;total;2014;[PLN]</th>\n",
       "      <th>January;total;2015;[PLN]</th>\n",
       "      <th>January;total;2016;[PLN]</th>\n",
       "      <th>January;total;2017;[PLN]</th>\n",
       "      <th>...</th>\n",
       "      <th>December;administrative and support service activities;2015;[PLN]</th>\n",
       "      <th>December;administrative and support service activities;2016;[PLN]</th>\n",
       "      <th>December;administrative and support service activities;2017;[PLN]</th>\n",
       "      <th>December;administrative and support service activities;2018;[PLN]</th>\n",
       "      <th>December;administrative and support service activities;2019;[PLN]</th>\n",
       "      <th>December;administrative and support service activities;2020;[PLN]</th>\n",
       "      <th>December;administrative and support service activities;2021;[PLN]</th>\n",
       "      <th>December;administrative and support service activities;2022;[PLN]</th>\n",
       "      <th>December;administrative and support service activities;2023;[PLN]</th>\n",
       "      <th>Unnamed: 2018</th>\n",
       "    </tr>\n",
       "  </thead>\n",
       "  <tbody>\n",
       "    <tr>\n",
       "      <th>0</th>\n",
       "      <td>0</td>\n",
       "      <td>POLAND</td>\n",
       "      <td>3230.36</td>\n",
       "      <td>3394.00</td>\n",
       "      <td>3666.41</td>\n",
       "      <td>3680.30</td>\n",
       "      <td>3805.28</td>\n",
       "      <td>3942.78</td>\n",
       "      <td>4101.36</td>\n",
       "      <td>4277.32</td>\n",
       "      <td>...</td>\n",
       "      <td>2963.95</td>\n",
       "      <td>3129.01</td>\n",
       "      <td>3379.47</td>\n",
       "      <td>3617.21</td>\n",
       "      <td>3935.00</td>\n",
       "      <td>4295.39</td>\n",
       "      <td>4798.70</td>\n",
       "      <td>5221.42</td>\n",
       "      <td>NaN</td>\n",
       "      <td>NaN</td>\n",
       "    </tr>\n",
       "    <tr>\n",
       "      <th>1</th>\n",
       "      <td>200000</td>\n",
       "      <td>DOLNOŚLĄSKIE</td>\n",
       "      <td>3195.75</td>\n",
       "      <td>3281.48</td>\n",
       "      <td>3454.44</td>\n",
       "      <td>3583.53</td>\n",
       "      <td>3727.70</td>\n",
       "      <td>3914.56</td>\n",
       "      <td>4093.50</td>\n",
       "      <td>4297.14</td>\n",
       "      <td>...</td>\n",
       "      <td>3116.06</td>\n",
       "      <td>3231.70</td>\n",
       "      <td>3494.43</td>\n",
       "      <td>3460.07</td>\n",
       "      <td>3944.38</td>\n",
       "      <td>4332.85</td>\n",
       "      <td>4676.11</td>\n",
       "      <td>5194.21</td>\n",
       "      <td>NaN</td>\n",
       "      <td>NaN</td>\n",
       "    </tr>\n",
       "    <tr>\n",
       "      <th>2</th>\n",
       "      <td>400000</td>\n",
       "      <td>KUJAWSKO-POMORSKIE</td>\n",
       "      <td>2713.92</td>\n",
       "      <td>2833.42</td>\n",
       "      <td>2998.35</td>\n",
       "      <td>3072.81</td>\n",
       "      <td>3174.54</td>\n",
       "      <td>3302.97</td>\n",
       "      <td>3413.49</td>\n",
       "      <td>3631.58</td>\n",
       "      <td>...</td>\n",
       "      <td>2523.70</td>\n",
       "      <td>2692.37</td>\n",
       "      <td>2875.16</td>\n",
       "      <td>3051.14</td>\n",
       "      <td>3219.11</td>\n",
       "      <td>3619.27</td>\n",
       "      <td>3792.26</td>\n",
       "      <td>4327.18</td>\n",
       "      <td>NaN</td>\n",
       "      <td>NaN</td>\n",
       "    </tr>\n",
       "    <tr>\n",
       "      <th>3</th>\n",
       "      <td>600000</td>\n",
       "      <td>LUBELSKIE</td>\n",
       "      <td>2619.39</td>\n",
       "      <td>2916.57</td>\n",
       "      <td>3308.47</td>\n",
       "      <td>3318.35</td>\n",
       "      <td>3344.70</td>\n",
       "      <td>3513.82</td>\n",
       "      <td>3913.28</td>\n",
       "      <td>3669.54</td>\n",
       "      <td>...</td>\n",
       "      <td>2816.72</td>\n",
       "      <td>2819.93</td>\n",
       "      <td>3088.72</td>\n",
       "      <td>3313.46</td>\n",
       "      <td>3661.60</td>\n",
       "      <td>3870.37</td>\n",
       "      <td>4191.93</td>\n",
       "      <td>4466.93</td>\n",
       "      <td>NaN</td>\n",
       "      <td>NaN</td>\n",
       "    </tr>\n",
       "    <tr>\n",
       "      <th>4</th>\n",
       "      <td>800000</td>\n",
       "      <td>LUBUSKIE</td>\n",
       "      <td>2650.41</td>\n",
       "      <td>2793.17</td>\n",
       "      <td>2963.87</td>\n",
       "      <td>3070.11</td>\n",
       "      <td>3162.26</td>\n",
       "      <td>3300.70</td>\n",
       "      <td>3452.83</td>\n",
       "      <td>3683.78</td>\n",
       "      <td>...</td>\n",
       "      <td>2068.52</td>\n",
       "      <td>2239.99</td>\n",
       "      <td>2590.05</td>\n",
       "      <td>2628.74</td>\n",
       "      <td>2924.01</td>\n",
       "      <td>3354.34</td>\n",
       "      <td>3654.56</td>\n",
       "      <td>4137.83</td>\n",
       "      <td>NaN</td>\n",
       "      <td>NaN</td>\n",
       "    </tr>\n",
       "  </tbody>\n",
       "</table>\n",
       "<p>5 rows × 2019 columns</p>\n",
       "</div>"
      ],
      "text/plain": [
       "     Code                Name  January;total;2010;[PLN]  \\\n",
       "0       0              POLAND                   3230.36   \n",
       "1  200000        DOLNOŚLĄSKIE                   3195.75   \n",
       "2  400000  KUJAWSKO-POMORSKIE                   2713.92   \n",
       "3  600000           LUBELSKIE                   2619.39   \n",
       "4  800000            LUBUSKIE                   2650.41   \n",
       "\n",
       "   January;total;2011;[PLN]  January;total;2012;[PLN]  \\\n",
       "0                   3394.00                   3666.41   \n",
       "1                   3281.48                   3454.44   \n",
       "2                   2833.42                   2998.35   \n",
       "3                   2916.57                   3308.47   \n",
       "4                   2793.17                   2963.87   \n",
       "\n",
       "   January;total;2013;[PLN]  January;total;2014;[PLN]  \\\n",
       "0                   3680.30                   3805.28   \n",
       "1                   3583.53                   3727.70   \n",
       "2                   3072.81                   3174.54   \n",
       "3                   3318.35                   3344.70   \n",
       "4                   3070.11                   3162.26   \n",
       "\n",
       "   January;total;2015;[PLN]  January;total;2016;[PLN]  \\\n",
       "0                   3942.78                   4101.36   \n",
       "1                   3914.56                   4093.50   \n",
       "2                   3302.97                   3413.49   \n",
       "3                   3513.82                   3913.28   \n",
       "4                   3300.70                   3452.83   \n",
       "\n",
       "   January;total;2017;[PLN]  ...  \\\n",
       "0                   4277.32  ...   \n",
       "1                   4297.14  ...   \n",
       "2                   3631.58  ...   \n",
       "3                   3669.54  ...   \n",
       "4                   3683.78  ...   \n",
       "\n",
       "   December;administrative and support service activities;2015;[PLN]  \\\n",
       "0                                            2963.95                   \n",
       "1                                            3116.06                   \n",
       "2                                            2523.70                   \n",
       "3                                            2816.72                   \n",
       "4                                            2068.52                   \n",
       "\n",
       "   December;administrative and support service activities;2016;[PLN]  \\\n",
       "0                                            3129.01                   \n",
       "1                                            3231.70                   \n",
       "2                                            2692.37                   \n",
       "3                                            2819.93                   \n",
       "4                                            2239.99                   \n",
       "\n",
       "   December;administrative and support service activities;2017;[PLN]  \\\n",
       "0                                            3379.47                   \n",
       "1                                            3494.43                   \n",
       "2                                            2875.16                   \n",
       "3                                            3088.72                   \n",
       "4                                            2590.05                   \n",
       "\n",
       "   December;administrative and support service activities;2018;[PLN]  \\\n",
       "0                                            3617.21                   \n",
       "1                                            3460.07                   \n",
       "2                                            3051.14                   \n",
       "3                                            3313.46                   \n",
       "4                                            2628.74                   \n",
       "\n",
       "   December;administrative and support service activities;2019;[PLN]  \\\n",
       "0                                            3935.00                   \n",
       "1                                            3944.38                   \n",
       "2                                            3219.11                   \n",
       "3                                            3661.60                   \n",
       "4                                            2924.01                   \n",
       "\n",
       "   December;administrative and support service activities;2020;[PLN]  \\\n",
       "0                                            4295.39                   \n",
       "1                                            4332.85                   \n",
       "2                                            3619.27                   \n",
       "3                                            3870.37                   \n",
       "4                                            3354.34                   \n",
       "\n",
       "   December;administrative and support service activities;2021;[PLN]  \\\n",
       "0                                            4798.70                   \n",
       "1                                            4676.11                   \n",
       "2                                            3792.26                   \n",
       "3                                            4191.93                   \n",
       "4                                            3654.56                   \n",
       "\n",
       "   December;administrative and support service activities;2022;[PLN]  \\\n",
       "0                                            5221.42                   \n",
       "1                                            5194.21                   \n",
       "2                                            4327.18                   \n",
       "3                                            4466.93                   \n",
       "4                                            4137.83                   \n",
       "\n",
       "   December;administrative and support service activities;2023;[PLN]  \\\n",
       "0                                                NaN                   \n",
       "1                                                NaN                   \n",
       "2                                                NaN                   \n",
       "3                                                NaN                   \n",
       "4                                                NaN                   \n",
       "\n",
       "   Unnamed: 2018  \n",
       "0            NaN  \n",
       "1            NaN  \n",
       "2            NaN  \n",
       "3            NaN  \n",
       "4            NaN  \n",
       "\n",
       "[5 rows x 2019 columns]"
      ]
     },
     "execution_count": 53,
     "metadata": {},
     "output_type": "execute_result"
    }
   ],
   "source": [
    "wages = pd.read_csv('raw_data/wages.csv', sep=';')  # separator ';'\n",
    "\n",
    "wages.head()"
   ]
  },
  {
   "attachments": {},
   "cell_type": "markdown",
   "metadata": {},
   "source": [
    "The structure of the obtained data frame differs from the ones observed before, i.e., the **Name** column contains the voivodeships, while each data category (the date and the employment section) occupies separate column. Before we handle the latter issue, we can drop the first and the last columns (they don't provide any relevant information) and correct the labels of the voivodeships by removing Polish accents (for compatibility with the previous files).\n",
    "\n",
    "With the data partially cleaned, we can melt the data frame to relocate the labels into one, separate column."
   ]
  },
  {
   "cell_type": "code",
   "execution_count": 54,
   "metadata": {},
   "outputs": [
    {
     "data": {
      "text/html": [
       "<div>\n",
       "<style scoped>\n",
       "    .dataframe tbody tr th:only-of-type {\n",
       "        vertical-align: middle;\n",
       "    }\n",
       "\n",
       "    .dataframe tbody tr th {\n",
       "        vertical-align: top;\n",
       "    }\n",
       "\n",
       "    .dataframe thead th {\n",
       "        text-align: right;\n",
       "    }\n",
       "</style>\n",
       "<table border=\"1\" class=\"dataframe\">\n",
       "  <thead>\n",
       "    <tr style=\"text-align: right;\">\n",
       "      <th></th>\n",
       "      <th>voivodeship</th>\n",
       "      <th>section</th>\n",
       "      <th>wage</th>\n",
       "      <th>date</th>\n",
       "    </tr>\n",
       "  </thead>\n",
       "  <tbody>\n",
       "    <tr>\n",
       "      <th>18808</th>\n",
       "      <td>MALOPOLSKIE</td>\n",
       "      <td>July;accommodation and catering;2010;[PLN]</td>\n",
       "      <td>2138.41</td>\n",
       "      <td>July;accommodation and catering;2010;[PLN]</td>\n",
       "    </tr>\n",
       "    <tr>\n",
       "      <th>13916</th>\n",
       "      <td>PODLASKIE</td>\n",
       "      <td>May;professional, scientific and technical act...</td>\n",
       "      <td>4227.97</td>\n",
       "      <td>May;professional, scientific and technical act...</td>\n",
       "    </tr>\n",
       "    <tr>\n",
       "      <th>2663</th>\n",
       "      <td>POMORSKIE</td>\n",
       "      <td>January;administrative and support service act...</td>\n",
       "      <td>2422.34</td>\n",
       "      <td>January;administrative and support service act...</td>\n",
       "    </tr>\n",
       "    <tr>\n",
       "      <th>3851</th>\n",
       "      <td>PODKARPACKIE</td>\n",
       "      <td>February;construction;2012;[PLN]</td>\n",
       "      <td>2694.28</td>\n",
       "      <td>February;construction;2012;[PLN]</td>\n",
       "    </tr>\n",
       "    <tr>\n",
       "      <th>15607</th>\n",
       "      <td>DOLNOSLASKIE</td>\n",
       "      <td>June;trade; repair of motor vehicles;2018;[PLN]</td>\n",
       "      <td>4404.11</td>\n",
       "      <td>June;trade; repair of motor vehicles;2018;[PLN]</td>\n",
       "    </tr>\n",
       "  </tbody>\n",
       "</table>\n",
       "</div>"
      ],
      "text/plain": [
       "        voivodeship                                            section  \\\n",
       "18808   MALOPOLSKIE         July;accommodation and catering;2010;[PLN]   \n",
       "13916     PODLASKIE  May;professional, scientific and technical act...   \n",
       "2663      POMORSKIE  January;administrative and support service act...   \n",
       "3851   PODKARPACKIE                   February;construction;2012;[PLN]   \n",
       "15607  DOLNOSLASKIE    June;trade; repair of motor vehicles;2018;[PLN]   \n",
       "\n",
       "          wage                                               date  \n",
       "18808  2138.41         July;accommodation and catering;2010;[PLN]  \n",
       "13916  4227.97  May;professional, scientific and technical act...  \n",
       "2663   2422.34  January;administrative and support service act...  \n",
       "3851   2694.28                   February;construction;2012;[PLN]  \n",
       "15607  4404.11    June;trade; repair of motor vehicles;2018;[PLN]  "
      ]
     },
     "execution_count": 54,
     "metadata": {},
     "output_type": "execute_result"
    }
   ],
   "source": [
    "wages = wages.iloc[:, 1:-1].rename({'Name': 'voivodeship'}, axis=1)\n",
    "\n",
    "acc = ['Ś', 'Ą', 'Ł', 'Ó', 'Ę', 'Ń']\n",
    "no_acc = ['S', 'A', 'L', 'O', 'E', 'N']\n",
    "\n",
    "wages['voivodeship'].replace(acc, no_acc, regex=True, inplace=True)\n",
    "\n",
    "wages = wages.melt(id_vars='voivodeship', var_name='section', \n",
    "    value_name='wage').assign(date = lambda x: x.section)\n",
    "\n",
    "wages.sample(5, random_state=0)"
   ]
  },
  {
   "attachments": {},
   "cell_type": "markdown",
   "metadata": {},
   "source": [
    "The **section** and **date** columns have the same records (the previous column headers) in the form:\n",
    "\n",
    "`month;section_type;year;[PLN]`,\n",
    "\n",
    "except for two section types: <font color=#ff7f0e>industry - water supply; sewerage, waste managament and remediation activities</font> and <font color=#ff7f0e>trade; repair of motor vehicles</font>, where the semicolon is stored also in-between.\n",
    "\n",
    "After improving the problematic sections, we can use the semicolon separator to transform the labels."
   ]
  },
  {
   "cell_type": "code",
   "execution_count": 55,
   "metadata": {},
   "outputs": [
    {
     "data": {
      "text/html": [
       "<div>\n",
       "<style scoped>\n",
       "    .dataframe tbody tr th:only-of-type {\n",
       "        vertical-align: middle;\n",
       "    }\n",
       "\n",
       "    .dataframe tbody tr th {\n",
       "        vertical-align: top;\n",
       "    }\n",
       "\n",
       "    .dataframe thead th {\n",
       "        text-align: right;\n",
       "    }\n",
       "</style>\n",
       "<table border=\"1\" class=\"dataframe\">\n",
       "  <thead>\n",
       "    <tr style=\"text-align: right;\">\n",
       "      <th></th>\n",
       "      <th>voivodeship</th>\n",
       "      <th>section</th>\n",
       "      <th>wage</th>\n",
       "      <th>date</th>\n",
       "    </tr>\n",
       "  </thead>\n",
       "  <tbody>\n",
       "    <tr>\n",
       "      <th>18808</th>\n",
       "      <td>MALOPOLSKIE</td>\n",
       "      <td>accommodation and catering</td>\n",
       "      <td>2138.41</td>\n",
       "      <td>2010-07-01</td>\n",
       "    </tr>\n",
       "    <tr>\n",
       "      <th>13916</th>\n",
       "      <td>PODLASKIE</td>\n",
       "      <td>professional, scientific and technical activities</td>\n",
       "      <td>4227.97</td>\n",
       "      <td>2016-05-01</td>\n",
       "    </tr>\n",
       "    <tr>\n",
       "      <th>2663</th>\n",
       "      <td>POMORSKIE</td>\n",
       "      <td>administrative and support service activities</td>\n",
       "      <td>2422.34</td>\n",
       "      <td>2012-01-01</td>\n",
       "    </tr>\n",
       "  </tbody>\n",
       "</table>\n",
       "</div>"
      ],
      "text/plain": [
       "       voivodeship                                            section  \\\n",
       "18808  MALOPOLSKIE                         accommodation and catering   \n",
       "13916    PODLASKIE  professional, scientific and technical activities   \n",
       "2663     POMORSKIE      administrative and support service activities   \n",
       "\n",
       "          wage       date  \n",
       "18808  2138.41 2010-07-01  \n",
       "13916  4227.97 2016-05-01  \n",
       "2663   2422.34 2012-01-01  "
      ]
     },
     "execution_count": 55,
     "metadata": {},
     "output_type": "execute_result"
    }
   ],
   "source": [
    "# the labels with a semicolon in-between (and their corrections)\n",
    "labels_sc = ['industry - water supply; sewerage, waste managament '\n",
    "             'and remediation activities', 'trade; repair of motor vehicles']\n",
    "labels_c = ['industry - water supply, sewerage, waste management '\n",
    "             'and remediation activities', 'trade, repair of motor vehicles']\n",
    "\n",
    "wages[['section', 'date']] = wages[['section', 'date']]\\\n",
    "    .replace(labels_sc, labels_c, regex=True)  # improve semicolon notation\n",
    "\n",
    "labels = wages.section.unique()\n",
    "labels_date = []\n",
    "labels_section = []\n",
    "\n",
    "# collect proper labels\n",
    "for label in labels:\n",
    "    label = label.split(';')\n",
    "    labels_date.append(' '.join([label[0], label[2]]))\n",
    "    labels_section.append(label[1])\n",
    "\n",
    "# apply new labels and transform dates into datetime\n",
    "wages.section.replace(labels, labels_section, inplace=True)\n",
    "wages.date.replace(labels, labels_date, inplace=True)\n",
    "wages.date = pd.to_datetime(wages.date, format='%B %Y')\n",
    "\n",
    "wages.sample(3, random_state=0)"
   ]
  },
  {
   "attachments": {},
   "cell_type": "markdown",
   "metadata": {},
   "source": [
    "The check on the data types uncovers, that many of the wages are missing:"
   ]
  },
  {
   "cell_type": "code",
   "execution_count": 56,
   "metadata": {},
   "outputs": [
    {
     "name": "stdout",
     "output_type": "stream",
     "text": [
      "<class 'pandas.core.frame.DataFrame'>\n",
      "RangeIndex: 34272 entries, 0 to 34271\n",
      "Data columns (total 4 columns):\n",
      " #   Column       Non-Null Count  Dtype         \n",
      "---  ------       --------------  -----         \n",
      " 0   voivodeship  34272 non-null  object        \n",
      " 1   section      34272 non-null  object        \n",
      " 2   wage         26316 non-null  float64       \n",
      " 3   date         34272 non-null  datetime64[ns]\n",
      "dtypes: datetime64[ns](1), float64(1), object(2)\n",
      "memory usage: 1.0+ MB\n"
     ]
    },
    {
     "data": {
      "text/plain": [
       "Float64Index([     0.0,  1477.94,  1483.86,  1484.12,  1491.08,  1496.54,\n",
       "               1503.59,  1508.77,  1517.88,  1518.65,\n",
       "              ...\n",
       "               13468.9, 13485.69, 13554.78, 13633.44, 13830.41, 14318.79,\n",
       "              14337.47, 14659.31, 16379.09,      nan],\n",
       "             dtype='float64', length=25556)"
      ]
     },
     "execution_count": 56,
     "metadata": {},
     "output_type": "execute_result"
    }
   ],
   "source": [
    "wages.info()\n",
    "\n",
    "pd.Index(wages.wage.unique()).sort_values()"
   ]
  },
  {
   "attachments": {},
   "cell_type": "markdown",
   "metadata": {},
   "source": [
    "As shown above, some of the entries are also equal to zero, which should be rather treated as NaNs. A simple transformation handles this issue."
   ]
  },
  {
   "cell_type": "code",
   "execution_count": 57,
   "metadata": {},
   "outputs": [],
   "source": [
    "wages.wage.replace(0.0, np.nan, inplace=True)"
   ]
  },
  {
   "attachments": {},
   "cell_type": "markdown",
   "metadata": {},
   "source": [
    "Due to the way the data from the Local Data Bank are queried, the frame contains also the records referencing to 2023-04 - 2023-12 period. All of these are empty, which can be observed examining the **wage** column."
   ]
  },
  {
   "cell_type": "code",
   "execution_count": 58,
   "metadata": {},
   "outputs": [
    {
     "data": {
      "text/plain": [
       "array([nan])"
      ]
     },
     "execution_count": 58,
     "metadata": {},
     "output_type": "execute_result"
    }
   ],
   "source": [
    "wages[wages.date > '2023-03-01'].wage.unique()"
   ]
  },
  {
   "attachments": {},
   "cell_type": "markdown",
   "metadata": {},
   "source": [
    "We exclude the above NaNs from the final data frame for clarity."
   ]
  },
  {
   "cell_type": "code",
   "execution_count": 59,
   "metadata": {},
   "outputs": [],
   "source": [
    "wages = wages[wages.date < '2023-04-01']"
   ]
  },
  {
   "attachments": {},
   "cell_type": "markdown",
   "metadata": {},
   "source": [
    "### Saving the data into database\n",
    "\n",
    "In the last step, we reorder the columns in the data frames and save the latter ones into the database, to have all the tables in one file -<a href='inflation_database.db'>`inflation_database.db`</a>."
   ]
  },
  {
   "cell_type": "code",
   "execution_count": 60,
   "metadata": {},
   "outputs": [],
   "source": [
    "import sqlite3\n",
    "\n",
    "# reorder the columns\n",
    "infl_m = infl_m[['date', 'household', 'good', 'inflation']]\n",
    "infl_q = infl_q[['date', 'voivodeship', 'good', 'inflation']]\n",
    "\n",
    "prices_f = prices_f[['date', 'voivodeship', 'good', 'price']]\n",
    "prices_nf = prices_nf[['date', 'good', 'price']]\n",
    "\n",
    "wages = wages[['date', 'voivodeship', 'section', 'wage']]\n",
    "\n",
    "# save the data into the database\n",
    "dfs = infl_m, infl_q, prices_f, prices_nf, wages\n",
    "df_names = ['inflation_monthly', 'inflation_quarterly', \n",
    "    'prices_food', 'prices_non_food', 'wages']\n",
    "\n",
    "db_conn = sqlite3.connect('inflation_database.db')\n",
    "\n",
    "with db_conn as connection:\n",
    "    for (df, df_name) in zip(dfs, df_names):\n",
    "        df.to_sql(df_name, connection, index=False, if_exists='replace')"
   ]
  },
  {
   "attachments": {},
   "cell_type": "markdown",
   "metadata": {},
   "source": [
    "The analysis of the inflation data can be found in the next notebook - <a href=\"1-inflation_analysis.ipynb\">1-inflation_analysis.ipynb</a>."
   ]
  }
 ],
 "metadata": {
  "kernelspec": {
   "display_name": "inflation_env",
   "language": "python",
   "name": "python3"
  },
  "language_info": {
   "codemirror_mode": {
    "name": "ipython",
    "version": 3
   },
   "file_extension": ".py",
   "mimetype": "text/x-python",
   "name": "python",
   "nbconvert_exporter": "python",
   "pygments_lexer": "ipython3",
   "version": "3.11.0"
  },
  "orig_nbformat": 4
 },
 "nbformat": 4,
 "nbformat_minor": 2
}
